{
  "nbformat": 4,
  "nbformat_minor": 0,
  "metadata": {
    "colab": {
      "provenance": []
    },
    "kernelspec": {
      "name": "python3",
      "display_name": "Python 3"
    },
    "language_info": {
      "name": "python"
    }
  },
  "cells": [
    {
      "cell_type": "code",
      "source": [
        "!pip -q install langchain tiktoken pypdf sentence_transformers InstructorEmbedding faiss-cpu\n",
        "!pip install -U langchain-community"
      ],
      "metadata": {
        "colab": {
          "base_uri": "https://localhost:8080/"
        },
        "id": "bfxiqnQGSQMk",
        "outputId": "3c463fe8-729e-4421-c259-3b2a6fe40a30"
      },
      "execution_count": null,
      "outputs": [
        {
          "output_type": "stream",
          "name": "stdout",
          "text": [
            "Collecting langchain-community\n",
            "  Downloading langchain_community-0.3.5-py3-none-any.whl.metadata (2.9 kB)\n",
            "Requirement already satisfied: PyYAML>=5.3 in /usr/local/lib/python3.10/dist-packages (from langchain-community) (6.0.2)\n",
            "Collecting SQLAlchemy<2.0.36,>=1.4 (from langchain-community)\n",
            "  Downloading SQLAlchemy-2.0.35-cp310-cp310-manylinux_2_17_x86_64.manylinux2014_x86_64.whl.metadata (9.6 kB)\n",
            "Requirement already satisfied: aiohttp<4.0.0,>=3.8.3 in /usr/local/lib/python3.10/dist-packages (from langchain-community) (3.10.10)\n",
            "Collecting dataclasses-json<0.7,>=0.5.7 (from langchain-community)\n",
            "  Downloading dataclasses_json-0.6.7-py3-none-any.whl.metadata (25 kB)\n",
            "Collecting httpx-sse<0.5.0,>=0.4.0 (from langchain-community)\n",
            "  Downloading httpx_sse-0.4.0-py3-none-any.whl.metadata (9.0 kB)\n",
            "Collecting langchain<0.4.0,>=0.3.6 (from langchain-community)\n",
            "  Downloading langchain-0.3.7-py3-none-any.whl.metadata (7.1 kB)\n",
            "Collecting langchain-core<0.4.0,>=0.3.15 (from langchain-community)\n",
            "  Downloading langchain_core-0.3.15-py3-none-any.whl.metadata (6.3 kB)\n",
            "Requirement already satisfied: langsmith<0.2.0,>=0.1.125 in /usr/local/lib/python3.10/dist-packages (from langchain-community) (0.1.137)\n",
            "Requirement already satisfied: numpy<2,>=1 in /usr/local/lib/python3.10/dist-packages (from langchain-community) (1.26.4)\n",
            "Collecting pydantic-settings<3.0.0,>=2.4.0 (from langchain-community)\n",
            "  Downloading pydantic_settings-2.6.1-py3-none-any.whl.metadata (3.5 kB)\n",
            "Requirement already satisfied: requests<3,>=2 in /usr/local/lib/python3.10/dist-packages (from langchain-community) (2.32.3)\n",
            "Requirement already satisfied: tenacity!=8.4.0,<10,>=8.1.0 in /usr/local/lib/python3.10/dist-packages (from langchain-community) (9.0.0)\n",
            "Requirement already satisfied: aiohappyeyeballs>=2.3.0 in /usr/local/lib/python3.10/dist-packages (from aiohttp<4.0.0,>=3.8.3->langchain-community) (2.4.3)\n",
            "Requirement already satisfied: aiosignal>=1.1.2 in /usr/local/lib/python3.10/dist-packages (from aiohttp<4.0.0,>=3.8.3->langchain-community) (1.3.1)\n",
            "Requirement already satisfied: attrs>=17.3.0 in /usr/local/lib/python3.10/dist-packages (from aiohttp<4.0.0,>=3.8.3->langchain-community) (24.2.0)\n",
            "Requirement already satisfied: frozenlist>=1.1.1 in /usr/local/lib/python3.10/dist-packages (from aiohttp<4.0.0,>=3.8.3->langchain-community) (1.5.0)\n",
            "Requirement already satisfied: multidict<7.0,>=4.5 in /usr/local/lib/python3.10/dist-packages (from aiohttp<4.0.0,>=3.8.3->langchain-community) (6.1.0)\n",
            "Requirement already satisfied: yarl<2.0,>=1.12.0 in /usr/local/lib/python3.10/dist-packages (from aiohttp<4.0.0,>=3.8.3->langchain-community) (1.17.0)\n",
            "Requirement already satisfied: async-timeout<5.0,>=4.0 in /usr/local/lib/python3.10/dist-packages (from aiohttp<4.0.0,>=3.8.3->langchain-community) (4.0.3)\n",
            "Collecting marshmallow<4.0.0,>=3.18.0 (from dataclasses-json<0.7,>=0.5.7->langchain-community)\n",
            "  Downloading marshmallow-3.23.1-py3-none-any.whl.metadata (7.5 kB)\n",
            "Collecting typing-inspect<1,>=0.4.0 (from dataclasses-json<0.7,>=0.5.7->langchain-community)\n",
            "  Downloading typing_inspect-0.9.0-py3-none-any.whl.metadata (1.5 kB)\n",
            "Requirement already satisfied: langchain-text-splitters<0.4.0,>=0.3.0 in /usr/local/lib/python3.10/dist-packages (from langchain<0.4.0,>=0.3.6->langchain-community) (0.3.0)\n",
            "Requirement already satisfied: pydantic<3.0.0,>=2.7.4 in /usr/local/lib/python3.10/dist-packages (from langchain<0.4.0,>=0.3.6->langchain-community) (2.9.2)\n",
            "Requirement already satisfied: jsonpatch<2.0,>=1.33 in /usr/local/lib/python3.10/dist-packages (from langchain-core<0.4.0,>=0.3.15->langchain-community) (1.33)\n",
            "Requirement already satisfied: packaging<25,>=23.2 in /usr/local/lib/python3.10/dist-packages (from langchain-core<0.4.0,>=0.3.15->langchain-community) (24.1)\n",
            "Requirement already satisfied: typing-extensions>=4.7 in /usr/local/lib/python3.10/dist-packages (from langchain-core<0.4.0,>=0.3.15->langchain-community) (4.12.2)\n",
            "Requirement already satisfied: httpx<1,>=0.23.0 in /usr/local/lib/python3.10/dist-packages (from langsmith<0.2.0,>=0.1.125->langchain-community) (0.27.2)\n",
            "Requirement already satisfied: orjson<4.0.0,>=3.9.14 in /usr/local/lib/python3.10/dist-packages (from langsmith<0.2.0,>=0.1.125->langchain-community) (3.10.10)\n",
            "Requirement already satisfied: requests-toolbelt<2.0.0,>=1.0.0 in /usr/local/lib/python3.10/dist-packages (from langsmith<0.2.0,>=0.1.125->langchain-community) (1.0.0)\n",
            "Collecting python-dotenv>=0.21.0 (from pydantic-settings<3.0.0,>=2.4.0->langchain-community)\n",
            "  Downloading python_dotenv-1.0.1-py3-none-any.whl.metadata (23 kB)\n",
            "Requirement already satisfied: charset-normalizer<4,>=2 in /usr/local/lib/python3.10/dist-packages (from requests<3,>=2->langchain-community) (3.4.0)\n",
            "Requirement already satisfied: idna<4,>=2.5 in /usr/local/lib/python3.10/dist-packages (from requests<3,>=2->langchain-community) (3.10)\n",
            "Requirement already satisfied: urllib3<3,>=1.21.1 in /usr/local/lib/python3.10/dist-packages (from requests<3,>=2->langchain-community) (2.2.3)\n",
            "Requirement already satisfied: certifi>=2017.4.17 in /usr/local/lib/python3.10/dist-packages (from requests<3,>=2->langchain-community) (2024.8.30)\n",
            "Requirement already satisfied: greenlet!=0.4.17 in /usr/local/lib/python3.10/dist-packages (from SQLAlchemy<2.0.36,>=1.4->langchain-community) (3.1.1)\n",
            "Requirement already satisfied: anyio in /usr/local/lib/python3.10/dist-packages (from httpx<1,>=0.23.0->langsmith<0.2.0,>=0.1.125->langchain-community) (3.7.1)\n",
            "Requirement already satisfied: httpcore==1.* in /usr/local/lib/python3.10/dist-packages (from httpx<1,>=0.23.0->langsmith<0.2.0,>=0.1.125->langchain-community) (1.0.6)\n",
            "Requirement already satisfied: sniffio in /usr/local/lib/python3.10/dist-packages (from httpx<1,>=0.23.0->langsmith<0.2.0,>=0.1.125->langchain-community) (1.3.1)\n",
            "Requirement already satisfied: h11<0.15,>=0.13 in /usr/local/lib/python3.10/dist-packages (from httpcore==1.*->httpx<1,>=0.23.0->langsmith<0.2.0,>=0.1.125->langchain-community) (0.14.0)\n",
            "Requirement already satisfied: jsonpointer>=1.9 in /usr/local/lib/python3.10/dist-packages (from jsonpatch<2.0,>=1.33->langchain-core<0.4.0,>=0.3.15->langchain-community) (3.0.0)\n",
            "Requirement already satisfied: annotated-types>=0.6.0 in /usr/local/lib/python3.10/dist-packages (from pydantic<3.0.0,>=2.7.4->langchain<0.4.0,>=0.3.6->langchain-community) (0.7.0)\n",
            "Requirement already satisfied: pydantic-core==2.23.4 in /usr/local/lib/python3.10/dist-packages (from pydantic<3.0.0,>=2.7.4->langchain<0.4.0,>=0.3.6->langchain-community) (2.23.4)\n",
            "Collecting mypy-extensions>=0.3.0 (from typing-inspect<1,>=0.4.0->dataclasses-json<0.7,>=0.5.7->langchain-community)\n",
            "  Downloading mypy_extensions-1.0.0-py3-none-any.whl.metadata (1.1 kB)\n",
            "Requirement already satisfied: propcache>=0.2.0 in /usr/local/lib/python3.10/dist-packages (from yarl<2.0,>=1.12.0->aiohttp<4.0.0,>=3.8.3->langchain-community) (0.2.0)\n",
            "Requirement already satisfied: exceptiongroup in /usr/local/lib/python3.10/dist-packages (from anyio->httpx<1,>=0.23.0->langsmith<0.2.0,>=0.1.125->langchain-community) (1.2.2)\n",
            "Downloading langchain_community-0.3.5-py3-none-any.whl (2.4 MB)\n",
            "\u001b[2K   \u001b[90m━━━━━━━━━━━━━━━━━━━━━━━━━━━━━━━━━━━━━━━━\u001b[0m \u001b[32m2.4/2.4 MB\u001b[0m \u001b[31m26.8 MB/s\u001b[0m eta \u001b[36m0:00:00\u001b[0m\n",
            "\u001b[?25hDownloading dataclasses_json-0.6.7-py3-none-any.whl (28 kB)\n",
            "Downloading httpx_sse-0.4.0-py3-none-any.whl (7.8 kB)\n",
            "Downloading langchain-0.3.7-py3-none-any.whl (1.0 MB)\n",
            "\u001b[2K   \u001b[90m━━━━━━━━━━━━━━━━━━━━━━━━━━━━━━━━━━━━━━━━\u001b[0m \u001b[32m1.0/1.0 MB\u001b[0m \u001b[31m43.2 MB/s\u001b[0m eta \u001b[36m0:00:00\u001b[0m\n",
            "\u001b[?25hDownloading langchain_core-0.3.15-py3-none-any.whl (408 kB)\n",
            "\u001b[2K   \u001b[90m━━━━━━━━━━━━━━━━━━━━━━━━━━━━━━━━━━━━━━━━\u001b[0m \u001b[32m408.7/408.7 kB\u001b[0m \u001b[31m23.9 MB/s\u001b[0m eta \u001b[36m0:00:00\u001b[0m\n",
            "\u001b[?25hDownloading pydantic_settings-2.6.1-py3-none-any.whl (28 kB)\n",
            "Downloading SQLAlchemy-2.0.35-cp310-cp310-manylinux_2_17_x86_64.manylinux2014_x86_64.whl (3.1 MB)\n",
            "\u001b[2K   \u001b[90m━━━━━━━━━━━━━━━━━━━━━━━━━━━━━━━━━━━━━━━━\u001b[0m \u001b[32m3.1/3.1 MB\u001b[0m \u001b[31m78.0 MB/s\u001b[0m eta \u001b[36m0:00:00\u001b[0m\n",
            "\u001b[?25hDownloading marshmallow-3.23.1-py3-none-any.whl (49 kB)\n",
            "\u001b[2K   \u001b[90m━━━━━━━━━━━━━━━━━━━━━━━━━━━━━━━━━━━━━━━━\u001b[0m \u001b[32m49.5/49.5 kB\u001b[0m \u001b[31m2.8 MB/s\u001b[0m eta \u001b[36m0:00:00\u001b[0m\n",
            "\u001b[?25hDownloading python_dotenv-1.0.1-py3-none-any.whl (19 kB)\n",
            "Downloading typing_inspect-0.9.0-py3-none-any.whl (8.8 kB)\n",
            "Downloading mypy_extensions-1.0.0-py3-none-any.whl (4.7 kB)\n",
            "Installing collected packages: SQLAlchemy, python-dotenv, mypy-extensions, marshmallow, httpx-sse, typing-inspect, pydantic-settings, dataclasses-json, langchain-core, langchain, langchain-community\n",
            "  Attempting uninstall: SQLAlchemy\n",
            "    Found existing installation: SQLAlchemy 2.0.36\n",
            "    Uninstalling SQLAlchemy-2.0.36:\n",
            "      Successfully uninstalled SQLAlchemy-2.0.36\n",
            "  Attempting uninstall: langchain-core\n",
            "    Found existing installation: langchain-core 0.3.13\n",
            "    Uninstalling langchain-core-0.3.13:\n",
            "      Successfully uninstalled langchain-core-0.3.13\n",
            "  Attempting uninstall: langchain\n",
            "    Found existing installation: langchain 0.3.4\n",
            "    Uninstalling langchain-0.3.4:\n",
            "      Successfully uninstalled langchain-0.3.4\n",
            "Successfully installed SQLAlchemy-2.0.35 dataclasses-json-0.6.7 httpx-sse-0.4.0 langchain-0.3.7 langchain-community-0.3.5 langchain-core-0.3.15 marshmallow-3.23.1 mypy-extensions-1.0.0 pydantic-settings-2.6.1 python-dotenv-1.0.1 typing-inspect-0.9.0\n"
          ]
        }
      ]
    },
    {
      "cell_type": "code",
      "source": [
        "!pip install protobuf==3.20.3\n",
        "# !pip install google-generativeai"
      ],
      "metadata": {
        "colab": {
          "base_uri": "https://localhost:8080/"
        },
        "id": "PyR1Uxz8TRXo",
        "outputId": "83a2fcad-cf8f-41ca-934a-a9b68728dadf"
      },
      "execution_count": null,
      "outputs": [
        {
          "output_type": "stream",
          "name": "stdout",
          "text": [
            "Requirement already satisfied: protobuf==3.20.3 in /usr/local/lib/python3.10/dist-packages (3.20.3)\n"
          ]
        }
      ]
    },
    {
      "cell_type": "code",
      "execution_count": null,
      "metadata": {
        "id": "JRxuSRKCJI4K"
      },
      "outputs": [],
      "source": [
        "# Install specific package versions\n",
        "# !pip install langchain\n",
        "# !pip install python-dotenv==1.0.0\n",
        "# !pip install streamlit==1.22.0\n",
        "# !pip install tiktoken\n",
        "# !pip install faiss-cpu\n",
        "# !pip install protobuf\n",
        "# !pip -q pypdf sentence_transformers InstructorEmbedding"
      ]
    },
    {
      "cell_type": "code",
      "source": [
        "# !pip -q install langchain tiktoken pypdf sentence_transformers InstructorEmbedding\n",
        "# !pip install -U sentence-transformers"
      ],
      "metadata": {
        "id": "Ew-w5yAePYZ7"
      },
      "execution_count": null,
      "outputs": []
    },
    {
      "cell_type": "code",
      "source": [
        "# !pip -q install pypdf"
      ],
      "metadata": {
        "id": "WE-rhJ1fNxM9"
      },
      "execution_count": null,
      "outputs": []
    },
    {
      "cell_type": "code",
      "source": [
        "# !pip show langchain"
      ],
      "metadata": {
        "id": "RXtnbRrPNHXO"
      },
      "execution_count": null,
      "outputs": []
    },
    {
      "cell_type": "code",
      "source": [
        "from langchain.text_splitter import RecursiveCharacterTextSplitter\n",
        "from langchain.chains import RetrievalQA\n",
        "from langchain.document_loaders import PyPDFLoader\n",
        "from langchain.document_loaders import DirectoryLoader\n",
        "from langchain.embeddings import HuggingFaceInstructEmbeddings"
      ],
      "metadata": {
        "id": "_v9y4DnrNUGI"
      },
      "execution_count": null,
      "outputs": []
    },
    {
      "cell_type": "code",
      "source": [
        "# Load and process the text files\n",
        "loader = DirectoryLoader('/content/drive/MyDrive/AI-Chatbot/Documents/', glob=\"./*.pdf\", loader_cls=PyPDFLoader)\n",
        "documents = loader.load_and_split()\n",
        "pages = loader.load()"
      ],
      "metadata": {
        "id": "vED0Tsx5Nfpt"
      },
      "execution_count": null,
      "outputs": []
    },
    {
      "cell_type": "code",
      "source": [
        "print(pages[0].page_content[0:500])\n",
        "print(pages[0].metadata)"
      ],
      "metadata": {
        "colab": {
          "base_uri": "https://localhost:8080/"
        },
        "id": "y7D3qrYhye8V",
        "outputId": "4bb482d6-b5f9-4a1a-991c-d552cb09b817"
      },
      "execution_count": null,
      "outputs": [
        {
          "output_type": "stream",
          "name": "stdout",
          "text": [
            " \n",
            " \n",
            " \n",
            "  \n",
            "Document No: IT-004 \n",
            "Page: 1 of 3 \n",
            "Policy IT Acceptable Use \n",
            " \n",
            "   \n",
            "This document is confidential and property of OVP and may not be duplicated, altered or removed from the facility. \n",
            "1. Purpose \n",
            "It is everyone’s responsibility to protect OVP Biotech’ intellectual, employee, customer, and partner information. \n",
            "The purpose of this policy is to define OVPs acceptable use of Information Technology to conduct business on \n",
            "company devices or network.  \n",
            " \n",
            "2. Scope \n",
            "This policy applies to all e\n",
            "{'source': '/content/drive/MyDrive/AI-Chatbot/Documents/IT-004 IT Acceptable Use.pdf', 'page': 0}\n"
          ]
        }
      ]
    },
    {
      "cell_type": "code",
      "source": [
        "len(documents)"
      ],
      "metadata": {
        "colab": {
          "base_uri": "https://localhost:8080/"
        },
        "id": "IOh4YOdYNoMd",
        "outputId": "dded986c-d6d2-47d1-e1c0-481dc5b02c2f"
      },
      "execution_count": null,
      "outputs": [
        {
          "output_type": "execute_result",
          "data": {
            "text/plain": [
              "11"
            ]
          },
          "metadata": {},
          "execution_count": 19
        }
      ]
    },
    {
      "cell_type": "code",
      "source": [
        "documents[0]"
      ],
      "metadata": {
        "colab": {
          "base_uri": "https://localhost:8080/"
        },
        "id": "iuaU5FodT8S6",
        "outputId": "da011c3d-208b-41c1-b604-0a07ce0242d0"
      },
      "execution_count": null,
      "outputs": [
        {
          "output_type": "execute_result",
          "data": {
            "text/plain": [
              "Document(metadata={'source': '/content/drive/MyDrive/AI-Chatbot/Documents/IT-004 IT Acceptable Use.pdf', 'page': 0}, page_content='Document No: IT-004 \\nPage: 1 of 3 \\nPolicy IT Acceptable Use \\n \\n   \\nThis document is confidential and property of OVP and may not be duplicated, altered or removed from the facility. \\n1. Purpose \\nIt is everyone’s responsibility to protect OVP Biotech’ intellectual, employee, customer, and partner information. \\nThe purpose of this policy is to define OVPs acceptable use of Information Technology to conduct business on \\ncompany devices or network.  \\n \\n2. Scope \\nThis policy applies to all employees, contractors, and partners that have or require access to OVP systems or data. \\n \\n3. Responsibility \\nRole Responsibilities  \\nAll Employees \\nResponsible for taking all necessary precautions to protect OVP Biotech’ intellec-\\ntual, employee, customer, and partner information and equipment \\n \\n4. Definitions \\nNone \\n5. Procedure \\n5.1. Use of IT Systems \\n5.1.1. All data stored on OVP Biotech systems is the property of OVP Biotech. Users should be aware that the \\ncompany cannot guarantee the confidentiality of information stored on any OVP system except where \\nrequired to do so by local laws. \\n5.1.2. OVP Biotech systems exist to support and enable the business. A small amount of personal use is, in \\nmost cases, allowed. However, it must not be in any way detrimental to users own or their colleague’s \\nproductivity.  \\n5.1.3. Employees should structure all electronic communication with recognition of the fact that the content \\ncould be monitored, and that any electronic communication could be forwarded, intercepted, printed or \\nstored by others.   \\n5.1.4. OVP Biotech trusts employees to be fair and sensible when judging what constitutes an acceptable \\nlevel of personal use of the company’s IT systems. If employees are uncertain they should consult their \\nmanager. \\n5.1.5. All laptops that have access to, or store OVP Biotech data must be encrypted to ensure unauthorized \\naccess is prevented (or at least made extremely difficult).')"
            ]
          },
          "metadata": {},
          "execution_count": 20
        }
      ]
    },
    {
      "cell_type": "code",
      "source": [
        "\n",
        "# from langchain.embeddings import HuggingFaceInstructEmbeddings\n",
        "\n",
        "# instructor_embeddings = HuggingFaceInstructEmbeddings(model_name=\"hkunlp/instructor-xl\")"
      ],
      "metadata": {
        "id": "3Ele2oWcOG6J"
      },
      "execution_count": null,
      "outputs": []
    },
    {
      "cell_type": "code",
      "source": [
        "from langchain.embeddings import HuggingFaceEmbeddings\n",
        "\n",
        "instructor_embeddings = HuggingFaceEmbeddings(model_name=\"sentence-transformers/all-MiniLM-L6-v2\")"
      ],
      "metadata": {
        "colab": {
          "base_uri": "https://localhost:8080/"
        },
        "id": "EkLGXhNOO7DB",
        "outputId": "b1d01b16-c6f3-4118-b607-6654e597f241"
      },
      "execution_count": null,
      "outputs": [
        {
          "output_type": "stream",
          "name": "stderr",
          "text": [
            "/usr/local/lib/python3.10/dist-packages/transformers/tokenization_utils_base.py:1601: FutureWarning: `clean_up_tokenization_spaces` was not set. It will be set to `True` by default. This behavior will be depracted in transformers v4.45, and will be then set to `False` by default. For more details check this issue: https://github.com/huggingface/transformers/issues/31884\n",
            "  warnings.warn(\n"
          ]
        }
      ]
    },
    {
      "cell_type": "code",
      "source": [
        "e = instructor_embeddings.embed_query(\"What is the Purpose?\")"
      ],
      "metadata": {
        "id": "46XJKLWdP_xK"
      },
      "execution_count": null,
      "outputs": []
    },
    {
      "cell_type": "code",
      "source": [
        "len(e)"
      ],
      "metadata": {
        "colab": {
          "base_uri": "https://localhost:8080/"
        },
        "id": "E_iSsEpNQLsO",
        "outputId": "52e75c8d-94ec-4889-e27c-9a6f9ee73215"
      },
      "execution_count": null,
      "outputs": [
        {
          "output_type": "execute_result",
          "data": {
            "text/plain": [
              "384"
            ]
          },
          "metadata": {},
          "execution_count": 24
        }
      ]
    },
    {
      "cell_type": "code",
      "source": [
        "e[:5]"
      ],
      "metadata": {
        "colab": {
          "base_uri": "https://localhost:8080/"
        },
        "id": "tux0eIAcQSwF",
        "outputId": "43133278-40c2-48ff-c32a-6ceccaaae1e4"
      },
      "execution_count": null,
      "outputs": [
        {
          "output_type": "execute_result",
          "data": {
            "text/plain": [
              "[-0.03824737295508385,\n",
              " 0.10440891981124878,\n",
              " -0.026577139273285866,\n",
              " -0.014916379004716873,\n",
              " 0.043447669595479965]"
            ]
          },
          "metadata": {},
          "execution_count": 25
        }
      ]
    },
    {
      "cell_type": "code",
      "source": [
        "from langchain_core.vectorstores import InMemoryVectorStore\n",
        "from langchain_text_splitters import RecursiveCharacterTextSplitter\n",
        "\n",
        "text_splitter = RecursiveCharacterTextSplitter(chunk_size=1000, chunk_overlap=200)\n",
        "splits = text_splitter.split_documents(pages)\n",
        "vectorstore = InMemoryVectorStore.from_documents(\n",
        "    documents=splits, embedding=instructor_embeddings\n",
        ")\n",
        "\n",
        "# retriever = vectorstore.as_retriever(score_threshold = 0.7, search_type=\"similarity\", search_kwargs={\"k\": 1})\n",
        "retriever = vectorstore.as_retriever(search_type=\"similarity\", search_kwargs={\"k\": 3})"
      ],
      "metadata": {
        "id": "_mtEZRIJvbzL"
      },
      "execution_count": null,
      "outputs": []
    },
    {
      "cell_type": "code",
      "source": [
        "res = vectorstore.similarity_search_with_score(\"What is the Role and Responsibilities of All Employees?\", k=2)\n",
        "\n",
        "for r in res:\n",
        "    print(r[0].metadata)\n",
        "    print(r[0].page_content)\n",
        "    print(\"Score:\", r[1])\n",
        "    print()"
      ],
      "metadata": {
        "colab": {
          "base_uri": "https://localhost:8080/"
        },
        "id": "0hSFScqa0maG",
        "outputId": "5d413f5b-739c-4adf-8900-6b26cbe226e4"
      },
      "execution_count": null,
      "outputs": [
        {
          "output_type": "stream",
          "name": "stdout",
          "text": [
            "{'source': '/content/drive/MyDrive/AI-Chatbot/Documents/IT-004 IT Acceptable Use.pdf', 'page': 1}\n",
            "employee need to contravene these guidelines to perform their role, they should consult with, and ob-\n",
            "tain approval from their manager before proceeding.  \n",
            "5.3.1.1. All illegal activities. These include theft, computer hacking, malware distribution, contravening \n",
            "copyrights and patents, and using illegal or unlicensed software or services.   \n",
            "5.3.1.2. All activities detrimental to the success of the company, including sharing sensitive information \n",
            "outside the company. \n",
            "5.3.1.3. All activities for personal benefit only that have a negative impact on the day-to-day functioning of \n",
            "the business.\n",
            "Score: 0.3954067081169252\n",
            "\n",
            "{'source': '/content/drive/MyDrive/AI-Chatbot/Documents/IT-004 IT Acceptable Use.pdf', 'page': 0}\n",
            "Document No: IT-004 \n",
            "Page: 1 of 3 \n",
            "Policy IT Acceptable Use \n",
            " \n",
            "   \n",
            "This document is confidential and property of OVP and may not be duplicated, altered or removed from the facility. \n",
            "1. Purpose \n",
            "It is everyone’s responsibility to protect OVP Biotech’ intellectual, employee, customer, and partner information. \n",
            "The purpose of this policy is to define OVPs acceptable use of Information Technology to conduct business on \n",
            "company devices or network.  \n",
            " \n",
            "2. Scope \n",
            "This policy applies to all employees, contractors, and partners that have or require access to OVP systems or data. \n",
            " \n",
            "3. Responsibility \n",
            "Role Responsibilities  \n",
            "All Employees \n",
            "Responsible for taking all necessary precautions to protect OVP Biotech’ intellec-\n",
            "tual, employee, customer, and partner information and equipment \n",
            " \n",
            "4. Definitions \n",
            "None \n",
            "5. Procedure \n",
            "5.1. Use of IT Systems \n",
            "5.1.1. All data stored on OVP Biotech systems is the property of OVP Biotech. Users should be aware that the\n",
            "Score: 0.38672709636987984\n",
            "\n"
          ]
        }
      ]
    },
    {
      "cell_type": "code",
      "source": [
        "res = vectorstore.similarity_search_with_score(\"Write the steps for Unacceptable Use?\", k=2)\n",
        "\n",
        "for r in res:\n",
        "    print(r[0].metadata)\n",
        "    print(r[0].page_content)\n",
        "    print(\"Score:\", r[1])\n",
        "    print()"
      ],
      "metadata": {
        "colab": {
          "base_uri": "https://localhost:8080/"
        },
        "id": "vBYH_4fE1XTW",
        "outputId": "e4a7695c-df78-4a48-d4a3-749a1a84b1fe"
      },
      "execution_count": null,
      "outputs": [
        {
          "output_type": "stream",
          "name": "stdout",
          "text": [
            "{'source': '/content/drive/MyDrive/AI-Chatbot/Documents/IT-004 IT Acceptable Use.pdf', 'page': 1}\n",
            "employee need to contravene these guidelines to perform their role, they should consult with, and ob-\n",
            "tain approval from their manager before proceeding.  \n",
            "5.3.1.1. All illegal activities. These include theft, computer hacking, malware distribution, contravening \n",
            "copyrights and patents, and using illegal or unlicensed software or services.   \n",
            "5.3.1.2. All activities detrimental to the success of the company, including sharing sensitive information \n",
            "outside the company. \n",
            "5.3.1.3. All activities for personal benefit only that have a negative impact on the day-to-day functioning of \n",
            "the business.\n",
            "Score: 0.48245590648700337\n",
            "\n",
            "{'source': '/content/drive/MyDrive/AI-Chatbot/Documents/IT-004 IT Acceptable Use.pdf', 'page': 1}\n",
            "nerable, users should take reasonable precautions to secure devices entrusted to their care. \n",
            "5.2.7. Users must guard against the risk of malware (e.g., viruses, spyware, Trojan horses, rootkits, worms, \n",
            "backdoors) being imported into OVP’s systems by whatever means and must report any actual or sus-\n",
            "pected malware infection to IT immediately. \n",
            "5.2.8. Users are responsible to notifying IT and Legal of any unauthorized access or interception of electronic \n",
            "or physical records regardless of the encryption state. \n",
            "5.3. Unacceptable Use \n",
            "5.3.1. All employees should use their own judgment regarding what is unacceptable use of OVP systems. The \n",
            "activities below are provided as examples of unacceptable use; however, it is not exhaustive. Should an \n",
            "employee need to contravene these guidelines to perform their role, they should consult with, and ob-\n",
            "tain approval from their manager before proceeding.\n",
            "Score: 0.4164063547326555\n",
            "\n"
          ]
        }
      ]
    },
    {
      "cell_type": "code",
      "source": [
        "# from langchain.vectorstores import FAISS\n",
        "\n",
        "# # Create a FAISS instance for vector database from 'data'\n",
        "# vectordb = FAISS.from_documents(documents=documents,\n",
        "#                                  embedding=instructor_embeddings)\n",
        "\n",
        "# # Create a retriever for querying the vector database\n",
        "# retriever = vectordb.as_retriever(score_threshold = 0.7, search_type=\"similarity\", search_kwargs={\"k\": 1})"
      ],
      "metadata": {
        "id": "C66tTVTOQWLn"
      },
      "execution_count": null,
      "outputs": []
    },
    {
      "cell_type": "code",
      "source": [
        "rdocs = retriever.invoke(\"What is the Role and Responsibilities of All Employees?\")\n",
        "rdocs"
      ],
      "metadata": {
        "colab": {
          "base_uri": "https://localhost:8080/"
        },
        "id": "JiYkSjIkQevW",
        "outputId": "4d40d84c-7fb9-4a9a-b93f-6a6ec091d5de"
      },
      "execution_count": null,
      "outputs": [
        {
          "output_type": "execute_result",
          "data": {
            "text/plain": [
              "[Document(id='c6fce13a-c2a7-49c0-bd65-2dc72cfd7ee1', metadata={'source': '/content/drive/MyDrive/AI-Chatbot/Documents/IT-004 IT Acceptable Use.pdf', 'page': 1}, page_content='employee need to contravene these guidelines to perform their role, they should consult with, and ob-\\ntain approval from their manager before proceeding.  \\n5.3.1.1. All illegal activities. These include theft, computer hacking, malware distribution, contravening \\ncopyrights and patents, and using illegal or unlicensed software or services.   \\n5.3.1.2. All activities detrimental to the success of the company, including sharing sensitive information \\noutside the company. \\n5.3.1.3. All activities for personal benefit only that have a negative impact on the day-to-day functioning of \\nthe business.')]"
            ]
          },
          "metadata": {},
          "execution_count": 91
        }
      ]
    },
    {
      "cell_type": "code",
      "source": [
        "rdocs[0].metadata"
      ],
      "metadata": {
        "colab": {
          "base_uri": "https://localhost:8080/"
        },
        "id": "1JUl9c83zXmR",
        "outputId": "79bf285b-bd72-4d1c-8c52-5c0092488688"
      },
      "execution_count": null,
      "outputs": [
        {
          "output_type": "execute_result",
          "data": {
            "text/plain": [
              "{'source': '/content/drive/MyDrive/AI-Chatbot/Documents/IT-004 IT Acceptable Use.pdf',\n",
              " 'page': 1}"
            ]
          },
          "metadata": {},
          "execution_count": 95
        }
      ]
    },
    {
      "cell_type": "code",
      "source": [
        "print(rdocs[0].page_content)"
      ],
      "metadata": {
        "colab": {
          "base_uri": "https://localhost:8080/"
        },
        "id": "I2uV3iIqzm0_",
        "outputId": "b05c7864-ed7b-4c01-82d0-5bb0e83827e3"
      },
      "execution_count": null,
      "outputs": [
        {
          "output_type": "stream",
          "name": "stdout",
          "text": [
            "employee need to contravene these guidelines to perform their role, they should consult with, and ob-\n",
            "tain approval from their manager before proceeding.  \n",
            "5.3.1.1. All illegal activities. These include theft, computer hacking, malware distribution, contravening \n",
            "copyrights and patents, and using illegal or unlicensed software or services.   \n",
            "5.3.1.2. All activities detrimental to the success of the company, including sharing sensitive information \n",
            "outside the company. \n",
            "5.3.1.3. All activities for personal benefit only that have a negative impact on the day-to-day functioning of \n",
            "the business.\n"
          ]
        }
      ]
    },
    {
      "cell_type": "code",
      "source": [
        "!pip install -qU langchain-groq"
      ],
      "metadata": {
        "colab": {
          "base_uri": "https://localhost:8080/"
        },
        "id": "v_e0TNZi4eNZ",
        "outputId": "c1e68617-17f1-4472-93ca-228a484dca29"
      },
      "execution_count": null,
      "outputs": [
        {
          "output_type": "stream",
          "name": "stdout",
          "text": [
            "\u001b[?25l   \u001b[90m━━━━━━━━━━━━━━━━━━━━━━━━━━━━━━━━━━━━━━━━\u001b[0m \u001b[32m0.0/106.5 kB\u001b[0m \u001b[31m?\u001b[0m eta \u001b[36m-:--:--\u001b[0m\r\u001b[2K   \u001b[91m━━━━━━━━━━━━━━━━━━━━━━━━━━━━━━━━━━━━━━\u001b[0m\u001b[90m╺\u001b[0m\u001b[90m━\u001b[0m \u001b[32m102.4/106.5 kB\u001b[0m \u001b[31m4.5 MB/s\u001b[0m eta \u001b[36m0:00:01\u001b[0m\r\u001b[2K   \u001b[90m━━━━━━━━━━━━━━━━━━━━━━━━━━━━━━━━━━━━━━━━\u001b[0m \u001b[32m106.5/106.5 kB\u001b[0m \u001b[31m2.5 MB/s\u001b[0m eta \u001b[36m0:00:00\u001b[0m\n",
            "\u001b[?25h"
          ]
        }
      ]
    },
    {
      "cell_type": "code",
      "source": [
        "# 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"
      ],
      "metadata": {
        "id": "tqXNaP-C4PvA"
      },
      "execution_count": null,
      "outputs": []
    },
    {
      "cell_type": "code",
      "source": [
        "import getpass\n",
        "import os\n",
        "\n",
        "os.environ[\"GROQ_API_KEY\"] = getpass.getpass()\n",
        "\n",
        "from langchain_groq import ChatGroq\n",
        "\n",
        "llm = ChatGroq(model=\"llama3-8b-8192\")"
      ],
      "metadata": {
        "colab": {
          "base_uri": "https://localhost:8080/"
        },
        "id": "xlPJRtwQ4bKT",
        "outputId": "21f20b61-d5bb-4363-8034-b7baf013a360"
      },
      "execution_count": null,
      "outputs": [
        {
          "name": "stdout",
          "output_type": "stream",
          "text": [
            "··········\n"
          ]
        }
      ]
    },
    {
      "cell_type": "code",
      "source": [
        "from langchain.chains import create_retrieval_chain\n",
        "from langchain.chains.combine_documents import create_stuff_documents_chain\n",
        "from langchain_core.prompts import ChatPromptTemplate\n",
        "\n",
        "system_prompt = (\n",
        "    \"You are an assistant for question-answering tasks. \"\n",
        "    \"Use the following pieces of retrieved context to answer \"\n",
        "    \"the question. If you don't know the answer, say that you \"\n",
        "    \"don't know. Use three sentences maximum and keep the \"\n",
        "    \"answer concise.\"\n",
        "    \"\\n\\n\"\n",
        "    \"{context}\"\n",
        ")\n",
        "\n",
        "prompt = ChatPromptTemplate.from_messages(\n",
        "    [\n",
        "        (\"system\", system_prompt),\n",
        "        (\"human\", \"{input}\"),\n",
        "    ]\n",
        ")\n",
        "\n",
        "\n",
        "question_answer_chain = create_stuff_documents_chain(llm, prompt)\n",
        "rag_chain = create_retrieval_chain(retriever, question_answer_chain)\n",
        "\n",
        "results = rag_chain.invoke({\"input\": \"What is the Role and Responsibilities of All Employees?\"})\n",
        "\n",
        "results"
      ],
      "metadata": {
        "colab": {
          "base_uri": "https://localhost:8080/"
        },
        "id": "oqvSOXS_3C7h",
        "outputId": "2ce5a93a-422b-4f4d-d76a-788d4a463f33"
      },
      "execution_count": null,
      "outputs": [
        {
          "output_type": "execute_result",
          "data": {
            "text/plain": [
              "{'input': 'What is the Role and Responsibilities of All Employees?',\n",
              " 'context': [Document(id='93148770-81b1-40b3-95fc-2cf08d9e3d86', metadata={'source': '/content/drive/MyDrive/AI-Chatbot/Documents/IT-004 IT Acceptable Use.pdf', 'page': 1}, page_content='employee need to contravene these guidelines to perform their role, they should consult with, and ob-\\ntain approval from their manager before proceeding.  \\n5.3.1.1. All illegal activities. These include theft, computer hacking, malware distribution, contravening \\ncopyrights and patents, and using illegal or unlicensed software or services.   \\n5.3.1.2. All activities detrimental to the success of the company, including sharing sensitive information \\noutside the company. \\n5.3.1.3. All activities for personal benefit only that have a negative impact on the day-to-day functioning of \\nthe business.'),\n",
              "  Document(id='eab02311-1c2c-483b-bd9b-a3971a25f6e4', metadata={'source': '/content/drive/MyDrive/AI-Chatbot/Documents/IT-004 IT Acceptable Use.pdf', 'page': 0}, page_content='Document No: IT-004 \\nPage: 1 of 3 \\nPolicy IT Acceptable Use \\n \\n   \\nThis document is confidential and property of OVP and may not be duplicated, altered or removed from the facility. \\n1. Purpose \\nIt is everyone’s responsibility to protect OVP Biotech’ intellectual, employee, customer, and partner information. \\nThe purpose of this policy is to define OVPs acceptable use of Information Technology to conduct business on \\ncompany devices or network.  \\n \\n2. Scope \\nThis policy applies to all employees, contractors, and partners that have or require access to OVP systems or data. \\n \\n3. Responsibility \\nRole Responsibilities  \\nAll Employees \\nResponsible for taking all necessary precautions to protect OVP Biotech’ intellec-\\ntual, employee, customer, and partner information and equipment \\n \\n4. Definitions \\nNone \\n5. Procedure \\n5.1. Use of IT Systems \\n5.1.1. All data stored on OVP Biotech systems is the property of OVP Biotech. Users should be aware that the'),\n",
              "  Document(id='4ea19e5f-1285-4397-9304-82eb8d06d199', metadata={'source': '/content/drive/MyDrive/AI-Chatbot/Documents/IT-005 Social Media Policy.pdf', 'page': 0}, page_content='Document No: IT-005 \\nPage: 1 of 2 \\nPolicy Social Media Guidelines \\n \\n  \\nThis document is confidential and property of OVP and may not be duplicated, altered or removed from the facility. \\n \\n1. Purpose \\nIt is everyone’s responsibility to protect OVP Biotech’ intellectual, employee, customer, consultant, and partner \\ninformation and to represent the company in a positive manner. In the social media world, the lines are blurred \\nbetween what is public or private, personal or professional. The purpose of this policy is to define OVP Biotech’ \\nguidelines for social media practices.   \\n \\n2. Scope \\nThis policy applies to all OVP Biotech employees, contractors and consultants.  \\n \\n3. Responsibility \\nRole Responsibilities  \\nAll \\nResponsible for taking all necessary precautions to protect OVP Biotech’ intellectual, \\nemployee, customer and partner information and to represent the company in a \\npositive manner while online. \\n \\n4. Definitions \\nNone \\n \\n5. Guidelines')],\n",
              " 'answer': \"According to the context, the Role and Responsibilities of All Employees are to take all necessary precautions to protect OVP Biotech's intellectual, employee, customer, and partner information and equipment.\"}"
            ]
          },
          "metadata": {},
          "execution_count": 118
        }
      ]
    },
    {
      "cell_type": "code",
      "source": [
        "print(results[\"context\"][0].page_content)"
      ],
      "metadata": {
        "colab": {
          "base_uri": "https://localhost:8080/"
        },
        "id": "N5aOpcja3C_U",
        "outputId": "f04d8340-a3a5-47d9-cc6f-35c163208709"
      },
      "execution_count": null,
      "outputs": [
        {
          "output_type": "stream",
          "name": "stdout",
          "text": [
            "employee need to contravene these guidelines to perform their role, they should consult with, and ob-\n",
            "tain approval from their manager before proceeding.  \n",
            "5.3.1.1. All illegal activities. These include theft, computer hacking, malware distribution, contravening \n",
            "copyrights and patents, and using illegal or unlicensed software or services.   \n",
            "5.3.1.2. All activities detrimental to the success of the company, including sharing sensitive information \n",
            "outside the company. \n",
            "5.3.1.3. All activities for personal benefit only that have a negative impact on the day-to-day functioning of \n",
            "the business.\n"
          ]
        }
      ]
    },
    {
      "cell_type": "code",
      "source": [
        "print(results[\"context\"][0].metadata)"
      ],
      "metadata": {
        "colab": {
          "base_uri": "https://localhost:8080/"
        },
        "id": "UVR7xnEY3DDa",
        "outputId": "63e9c2cc-be06-4a6d-a319-c7721b67ca90"
      },
      "execution_count": null,
      "outputs": [
        {
          "output_type": "stream",
          "name": "stdout",
          "text": [
            "{'source': '/content/drive/MyDrive/AI-Chatbot/Documents/IT-004 IT Acceptable Use.pdf', 'page': 1}\n"
          ]
        }
      ]
    },
    {
      "cell_type": "code",
      "source": [],
      "metadata": {
        "id": "6GVI9EiC3DGk"
      },
      "execution_count": null,
      "outputs": []
    },
    {
      "cell_type": "code",
      "source": [
        "# !pip install -U google-generativeai\n",
        "# !pip install --upgrade google-generativeai\n",
        "# !pip install -U langchain"
      ],
      "metadata": {
        "id": "5QAdR9krRfFO"
      },
      "execution_count": null,
      "outputs": []
    },
    {
      "cell_type": "code",
      "source": [
        "import langchain\n",
        "dir(langchain.llms)"
      ],
      "metadata": {
        "colab": {
          "base_uri": "https://localhost:8080/"
        },
        "id": "KPRbFop7qUr4",
        "outputId": "db8d69b3-a251-4033-fe45-2cae2bb40b1e"
      },
      "execution_count": null,
      "outputs": [
        {
          "output_type": "execute_result",
          "data": {
            "text/plain": [
              "['Any',\n",
              " 'BaseLLM',\n",
              " 'Callable',\n",
              " 'Dict',\n",
              " 'LangChainDeprecationWarning',\n",
              " 'Type',\n",
              " '__all__',\n",
              " '__builtins__',\n",
              " '__cached__',\n",
              " '__doc__',\n",
              " '__file__',\n",
              " '__getattr__',\n",
              " '__loader__',\n",
              " '__name__',\n",
              " '__package__',\n",
              " '__path__',\n",
              " '__spec__',\n",
              " '_import_ai21',\n",
              " '_import_aleph_alpha',\n",
              " '_import_amazon_api_gateway',\n",
              " '_import_anthropic',\n",
              " '_import_anyscale',\n",
              " '_import_arcee',\n",
              " '_import_aviary',\n",
              " '_import_azure_openai',\n",
              " '_import_azureml_endpoint',\n",
              " '_import_baidu_qianfan_endpoint',\n",
              " '_import_bananadev',\n",
              " '_import_baseten',\n",
              " '_import_beam',\n",
              " '_import_bedrock',\n",
              " '_import_bittensor',\n",
              " '_import_cerebriumai',\n",
              " '_import_chatglm',\n",
              " '_import_clarifai',\n",
              " '_import_cohere',\n",
              " '_import_ctransformers',\n",
              " '_import_ctranslate2',\n",
              " '_import_databricks',\n",
              " '_import_databricks_chat',\n",
              " '_import_deepinfra',\n",
              " '_import_deepsparse',\n",
              " '_import_edenai',\n",
              " '_import_fake',\n",
              " '_import_fireworks',\n",
              " '_import_forefrontai',\n",
              " '_import_gigachat',\n",
              " '_import_google_palm',\n",
              " '_import_gooseai',\n",
              " '_import_gpt4all',\n",
              " '_import_gradient_ai',\n",
              " '_import_huggingface_endpoint',\n",
              " '_import_huggingface_hub',\n",
              " '_import_huggingface_pipeline',\n",
              " '_import_huggingface_text_gen_inference',\n",
              " '_import_human',\n",
              " '_import_javelin_ai_gateway',\n",
              " '_import_koboldai',\n",
              " '_import_llamacpp',\n",
              " '_import_manifest',\n",
              " '_import_minimax',\n",
              " '_import_mlflow',\n",
              " '_import_mlflow_ai_gateway',\n",
              " '_import_mlflow_chat',\n",
              " '_import_modal',\n",
              " '_import_mosaicml',\n",
              " '_import_nlpcloud',\n",
              " '_import_octoai_endpoint',\n",
              " '_import_ollama',\n",
              " '_import_opaqueprompts',\n",
              " '_import_openai',\n",
              " '_import_openai_chat',\n",
              " '_import_openllm',\n",
              " '_import_openlm',\n",
              " '_import_pai_eas_endpoint',\n",
              " '_import_petals',\n",
              " '_import_pipelineai',\n",
              " '_import_predibase',\n",
              " '_import_predictionguard',\n",
              " '_import_promptlayer',\n",
              " '_import_promptlayer_chat',\n",
              " '_import_replicate',\n",
              " '_import_rwkv',\n",
              " '_import_sagemaker_endpoint',\n",
              " '_import_self_hosted',\n",
              " '_import_self_hosted_hugging_face',\n",
              " '_import_stochasticai',\n",
              " '_import_symblai_nebula',\n",
              " '_import_textgen',\n",
              " '_import_titan_takeoff',\n",
              " '_import_titan_takeoff_pro',\n",
              " '_import_together',\n",
              " '_import_tongyi',\n",
              " '_import_vertex',\n",
              " '_import_vertex_model_garden',\n",
              " '_import_vllm',\n",
              " '_import_vllm_openai',\n",
              " '_import_volcengine_maas',\n",
              " '_import_watsonxllm',\n",
              " '_import_writer',\n",
              " '_import_xinference',\n",
              " '_import_yandex_gpt',\n",
              " 'get_type_to_cls_dict',\n",
              " 'is_interactive_env',\n",
              " 'warnings']"
            ]
          },
          "metadata": {},
          "execution_count": 60
        }
      ]
    }
  ]
}